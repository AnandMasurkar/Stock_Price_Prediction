{
  "nbformat": 4,
  "nbformat_minor": 0,
  "metadata": {
    "colab": {
      "name": "stock_price_prediction.ipynb",
      "version": "0.3.2",
      "provenance": [],
      "collapsed_sections": [
        "bvOuyD9NzqkL",
        "5vDdO07X4xAa"
      ],
      "toc_visible": true,
      "include_colab_link": true
    },
    "kernelspec": {
      "name": "python3",
      "display_name": "Python 3"
    },
    "accelerator": "GPU"
  },
  "cells": [
    {
      "cell_type": "markdown",
      "metadata": {
        "id": "view-in-github",
        "colab_type": "text"
      },
      "source": [
        "<a href=\"https://colab.research.google.com/github/AnandMasurkar/Stock_Price_Prediction/blob/master/stock_price_prediction.ipynb\" target=\"_parent\"><img src=\"https://colab.research.google.com/assets/colab-badge.svg\" alt=\"Open In Colab\"/></a>"
      ]
    },
    {
      "cell_type": "markdown",
      "metadata": {
        "id": "dQCx9GfVzi74",
        "colab_type": "text"
      },
      "source": [
        "#Stock Price Prediction using Scikit-learn regression models"
      ]
    },
    {
      "cell_type": "markdown",
      "metadata": {
        "id": "bvOuyD9NzqkL",
        "colab_type": "text"
      },
      "source": [
        "## Import Dependencies"
      ]
    },
    {
      "cell_type": "code",
      "metadata": {
        "id": "GsuG7YNWzt5O",
        "colab_type": "code",
        "colab": {}
      },
      "source": [
        "# matrix multiplication and data-preprocessing\n",
        "import numpy as np\n",
        "\n",
        "# Data formating\n",
        "import pandas as pd\n",
        "\n",
        "# Plotting Graphs\n",
        "import matplotlib.pyplot as plt\n",
        "import seaborn as sns\n",
        "sns.set()\n",
        "\n",
        "# Minmax scalar\n",
        "from sklearn.preprocessing import MinMaxScaler\n",
        "\n",
        "#Train Test Split\n",
        "from sklearn.model_selection import train_test_split\n",
        "\n",
        "from sklearn import linear_model,utils\n",
        "from sklearn.metrics import mean_squared_error,r2_score"
      ],
      "execution_count": 0,
      "outputs": []
    },
    {
      "cell_type": "markdown",
      "metadata": {
        "id": "pvrX-EKVAp89",
        "colab_type": "text"
      },
      "source": [
        "Install yahoo finance dataset for MSFT"
      ]
    },
    {
      "cell_type": "code",
      "metadata": {
        "id": "-W_vITQD2edy",
        "colab_type": "code",
        "colab": {}
      },
      "source": [
        "#!pip install yfinance --upgrade --no-cache-dir"
      ],
      "execution_count": 0,
      "outputs": []
    },
    {
      "cell_type": "code",
      "metadata": {
        "id": "GkAG8cHN_H87",
        "colab_type": "code",
        "colab": {
          "base_uri": "https://localhost:8080/",
          "height": 51
        },
        "outputId": "199786a3-d075-4221-e0ec-8829c8f8ccf9"
      },
      "source": [
        "## Save future files to your drive\n",
        "## In this notebook control for multiple testing\n",
        "import numpy as np\n",
        "from google.colab import drive\n",
        "drive.mount('/content/drive',force_remount=True)\n",
        "%cd \"/content/drive/My Drive/Data/Stock_Price\""
      ],
      "execution_count": 3,
      "outputs": [
        {
          "output_type": "stream",
          "text": [
            "Mounted at /content/drive\n",
            "/content/drive/My Drive/Data/Stock_Price\n"
          ],
          "name": "stdout"
        }
      ]
    },
    {
      "cell_type": "code",
      "metadata": {
        "id": "dDP4ZPplajtP",
        "colab_type": "code",
        "colab": {
          "base_uri": "https://localhost:8080/",
          "height": 221
        },
        "outputId": "1c083b46-bf96-4568-844a-0c7108acb137"
      },
      "source": [
        "from pandas_datareader import data as pdr\n",
        "import fix_yahoo_finance as yf\n",
        "yf.pdr_override()\n",
        "df_full = pdr.get_data_yahoo(\"MSFT\", start=\"2014-01-01\").reset_index()\n",
        "df_full.to_csv('MSFT.csv',index=False)\n",
        "df_full.head()"
      ],
      "execution_count": 4,
      "outputs": [
        {
          "output_type": "stream",
          "text": [
            "[*********************100%***********************]  1 of 1 downloaded\n"
          ],
          "name": "stdout"
        },
        {
          "output_type": "execute_result",
          "data": {
            "text/html": [
              "<div>\n",
              "<style scoped>\n",
              "    .dataframe tbody tr th:only-of-type {\n",
              "        vertical-align: middle;\n",
              "    }\n",
              "\n",
              "    .dataframe tbody tr th {\n",
              "        vertical-align: top;\n",
              "    }\n",
              "\n",
              "    .dataframe thead th {\n",
              "        text-align: right;\n",
              "    }\n",
              "</style>\n",
              "<table border=\"1\" class=\"dataframe\">\n",
              "  <thead>\n",
              "    <tr style=\"text-align: right;\">\n",
              "      <th></th>\n",
              "      <th>Date</th>\n",
              "      <th>Open</th>\n",
              "      <th>High</th>\n",
              "      <th>Low</th>\n",
              "      <th>Close</th>\n",
              "      <th>Adj Close</th>\n",
              "      <th>Volume</th>\n",
              "    </tr>\n",
              "  </thead>\n",
              "  <tbody>\n",
              "    <tr>\n",
              "      <th>0</th>\n",
              "      <td>2014-01-02</td>\n",
              "      <td>37.349998</td>\n",
              "      <td>37.400002</td>\n",
              "      <td>37.099998</td>\n",
              "      <td>37.160000</td>\n",
              "      <td>32.582050</td>\n",
              "      <td>30632200</td>\n",
              "    </tr>\n",
              "    <tr>\n",
              "      <th>1</th>\n",
              "      <td>2014-01-03</td>\n",
              "      <td>37.200001</td>\n",
              "      <td>37.220001</td>\n",
              "      <td>36.599998</td>\n",
              "      <td>36.910000</td>\n",
              "      <td>32.362835</td>\n",
              "      <td>31134800</td>\n",
              "    </tr>\n",
              "    <tr>\n",
              "      <th>2</th>\n",
              "      <td>2014-01-06</td>\n",
              "      <td>36.849998</td>\n",
              "      <td>36.889999</td>\n",
              "      <td>36.110001</td>\n",
              "      <td>36.130001</td>\n",
              "      <td>31.678938</td>\n",
              "      <td>43603700</td>\n",
              "    </tr>\n",
              "    <tr>\n",
              "      <th>3</th>\n",
              "      <td>2014-01-07</td>\n",
              "      <td>36.330002</td>\n",
              "      <td>36.490002</td>\n",
              "      <td>36.209999</td>\n",
              "      <td>36.410000</td>\n",
              "      <td>31.924446</td>\n",
              "      <td>35802800</td>\n",
              "    </tr>\n",
              "    <tr>\n",
              "      <th>4</th>\n",
              "      <td>2014-01-08</td>\n",
              "      <td>36.000000</td>\n",
              "      <td>36.139999</td>\n",
              "      <td>35.580002</td>\n",
              "      <td>35.759998</td>\n",
              "      <td>31.354523</td>\n",
              "      <td>59971700</td>\n",
              "    </tr>\n",
              "  </tbody>\n",
              "</table>\n",
              "</div>"
            ],
            "text/plain": [
              "        Date       Open       High        Low      Close  Adj Close    Volume\n",
              "0 2014-01-02  37.349998  37.400002  37.099998  37.160000  32.582050  30632200\n",
              "1 2014-01-03  37.200001  37.220001  36.599998  36.910000  32.362835  31134800\n",
              "2 2014-01-06  36.849998  36.889999  36.110001  36.130001  31.678938  43603700\n",
              "3 2014-01-07  36.330002  36.490002  36.209999  36.410000  31.924446  35802800\n",
              "4 2014-01-08  36.000000  36.139999  35.580002  35.759998  31.354523  59971700"
            ]
          },
          "metadata": {
            "tags": []
          },
          "execution_count": 4
        }
      ]
    },
    {
      "cell_type": "code",
      "metadata": {
        "id": "rAkWNAdJgAfu",
        "colab_type": "code",
        "colab": {}
      },
      "source": [
        "df = pd.read_csv('MSFT.csv')"
      ],
      "execution_count": 0,
      "outputs": []
    },
    {
      "cell_type": "code",
      "metadata": {
        "id": "YaZoQnjdgWL-",
        "colab_type": "code",
        "colab": {
          "base_uri": "https://localhost:8080/",
          "height": 204
        },
        "outputId": "7f1dd7b6-7926-4de8-a0d8-ba569110b05e"
      },
      "source": [
        "df.head()"
      ],
      "execution_count": 6,
      "outputs": [
        {
          "output_type": "execute_result",
          "data": {
            "text/html": [
              "<div>\n",
              "<style scoped>\n",
              "    .dataframe tbody tr th:only-of-type {\n",
              "        vertical-align: middle;\n",
              "    }\n",
              "\n",
              "    .dataframe tbody tr th {\n",
              "        vertical-align: top;\n",
              "    }\n",
              "\n",
              "    .dataframe thead th {\n",
              "        text-align: right;\n",
              "    }\n",
              "</style>\n",
              "<table border=\"1\" class=\"dataframe\">\n",
              "  <thead>\n",
              "    <tr style=\"text-align: right;\">\n",
              "      <th></th>\n",
              "      <th>Date</th>\n",
              "      <th>Open</th>\n",
              "      <th>High</th>\n",
              "      <th>Low</th>\n",
              "      <th>Close</th>\n",
              "      <th>Adj Close</th>\n",
              "      <th>Volume</th>\n",
              "    </tr>\n",
              "  </thead>\n",
              "  <tbody>\n",
              "    <tr>\n",
              "      <th>0</th>\n",
              "      <td>2014-01-02</td>\n",
              "      <td>37.349998</td>\n",
              "      <td>37.400002</td>\n",
              "      <td>37.099998</td>\n",
              "      <td>37.160000</td>\n",
              "      <td>32.582050</td>\n",
              "      <td>30632200</td>\n",
              "    </tr>\n",
              "    <tr>\n",
              "      <th>1</th>\n",
              "      <td>2014-01-03</td>\n",
              "      <td>37.200001</td>\n",
              "      <td>37.220001</td>\n",
              "      <td>36.599998</td>\n",
              "      <td>36.910000</td>\n",
              "      <td>32.362835</td>\n",
              "      <td>31134800</td>\n",
              "    </tr>\n",
              "    <tr>\n",
              "      <th>2</th>\n",
              "      <td>2014-01-06</td>\n",
              "      <td>36.849998</td>\n",
              "      <td>36.889999</td>\n",
              "      <td>36.110001</td>\n",
              "      <td>36.130001</td>\n",
              "      <td>31.678938</td>\n",
              "      <td>43603700</td>\n",
              "    </tr>\n",
              "    <tr>\n",
              "      <th>3</th>\n",
              "      <td>2014-01-07</td>\n",
              "      <td>36.330002</td>\n",
              "      <td>36.490002</td>\n",
              "      <td>36.209999</td>\n",
              "      <td>36.410000</td>\n",
              "      <td>31.924446</td>\n",
              "      <td>35802800</td>\n",
              "    </tr>\n",
              "    <tr>\n",
              "      <th>4</th>\n",
              "      <td>2014-01-08</td>\n",
              "      <td>36.000000</td>\n",
              "      <td>36.139999</td>\n",
              "      <td>35.580002</td>\n",
              "      <td>35.759998</td>\n",
              "      <td>31.354523</td>\n",
              "      <td>59971700</td>\n",
              "    </tr>\n",
              "  </tbody>\n",
              "</table>\n",
              "</div>"
            ],
            "text/plain": [
              "         Date       Open       High        Low      Close  Adj Close    Volume\n",
              "0  2014-01-02  37.349998  37.400002  37.099998  37.160000  32.582050  30632200\n",
              "1  2014-01-03  37.200001  37.220001  36.599998  36.910000  32.362835  31134800\n",
              "2  2014-01-06  36.849998  36.889999  36.110001  36.130001  31.678938  43603700\n",
              "3  2014-01-07  36.330002  36.490002  36.209999  36.410000  31.924446  35802800\n",
              "4  2014-01-08  36.000000  36.139999  35.580002  35.759998  31.354523  59971700"
            ]
          },
          "metadata": {
            "tags": []
          },
          "execution_count": 6
        }
      ]
    },
    {
      "cell_type": "markdown",
      "metadata": {
        "id": "5vDdO07X4xAa",
        "colab_type": "text"
      },
      "source": [
        "## Data-preprocessing"
      ]
    },
    {
      "cell_type": "markdown",
      "metadata": {
        "id": "Jy9RrwQf403L",
        "colab_type": "text"
      },
      "source": [
        "### Drop Adj_Close"
      ]
    },
    {
      "cell_type": "code",
      "metadata": {
        "id": "wO6b5ZyPGKUg",
        "colab_type": "code",
        "colab": {}
      },
      "source": [
        "df.drop('Adj Close', axis=1, inplace=True)"
      ],
      "execution_count": 0,
      "outputs": []
    },
    {
      "cell_type": "markdown",
      "metadata": {
        "id": "8WKYsse8G4Dc",
        "colab_type": "text"
      },
      "source": [
        "### Drop Date"
      ]
    },
    {
      "cell_type": "code",
      "metadata": {
        "id": "RLT0WZNeG7Bx",
        "colab_type": "code",
        "colab": {}
      },
      "source": [
        "df.drop('Date', axis=1, inplace=True)"
      ],
      "execution_count": 0,
      "outputs": []
    },
    {
      "cell_type": "code",
      "metadata": {
        "id": "4LKclZJnHf43",
        "colab_type": "code",
        "colab": {
          "base_uri": "https://localhost:8080/",
          "height": 204
        },
        "outputId": "beef3aa7-f840-45e8-d6b4-57546bda2839"
      },
      "source": [
        "df.head()"
      ],
      "execution_count": 9,
      "outputs": [
        {
          "output_type": "execute_result",
          "data": {
            "text/html": [
              "<div>\n",
              "<style scoped>\n",
              "    .dataframe tbody tr th:only-of-type {\n",
              "        vertical-align: middle;\n",
              "    }\n",
              "\n",
              "    .dataframe tbody tr th {\n",
              "        vertical-align: top;\n",
              "    }\n",
              "\n",
              "    .dataframe thead th {\n",
              "        text-align: right;\n",
              "    }\n",
              "</style>\n",
              "<table border=\"1\" class=\"dataframe\">\n",
              "  <thead>\n",
              "    <tr style=\"text-align: right;\">\n",
              "      <th></th>\n",
              "      <th>Open</th>\n",
              "      <th>High</th>\n",
              "      <th>Low</th>\n",
              "      <th>Close</th>\n",
              "      <th>Volume</th>\n",
              "    </tr>\n",
              "  </thead>\n",
              "  <tbody>\n",
              "    <tr>\n",
              "      <th>0</th>\n",
              "      <td>37.349998</td>\n",
              "      <td>37.400002</td>\n",
              "      <td>37.099998</td>\n",
              "      <td>37.160000</td>\n",
              "      <td>30632200</td>\n",
              "    </tr>\n",
              "    <tr>\n",
              "      <th>1</th>\n",
              "      <td>37.200001</td>\n",
              "      <td>37.220001</td>\n",
              "      <td>36.599998</td>\n",
              "      <td>36.910000</td>\n",
              "      <td>31134800</td>\n",
              "    </tr>\n",
              "    <tr>\n",
              "      <th>2</th>\n",
              "      <td>36.849998</td>\n",
              "      <td>36.889999</td>\n",
              "      <td>36.110001</td>\n",
              "      <td>36.130001</td>\n",
              "      <td>43603700</td>\n",
              "    </tr>\n",
              "    <tr>\n",
              "      <th>3</th>\n",
              "      <td>36.330002</td>\n",
              "      <td>36.490002</td>\n",
              "      <td>36.209999</td>\n",
              "      <td>36.410000</td>\n",
              "      <td>35802800</td>\n",
              "    </tr>\n",
              "    <tr>\n",
              "      <th>4</th>\n",
              "      <td>36.000000</td>\n",
              "      <td>36.139999</td>\n",
              "      <td>35.580002</td>\n",
              "      <td>35.759998</td>\n",
              "      <td>59971700</td>\n",
              "    </tr>\n",
              "  </tbody>\n",
              "</table>\n",
              "</div>"
            ],
            "text/plain": [
              "        Open       High        Low      Close    Volume\n",
              "0  37.349998  37.400002  37.099998  37.160000  30632200\n",
              "1  37.200001  37.220001  36.599998  36.910000  31134800\n",
              "2  36.849998  36.889999  36.110001  36.130001  43603700\n",
              "3  36.330002  36.490002  36.209999  36.410000  35802800\n",
              "4  36.000000  36.139999  35.580002  35.759998  59971700"
            ]
          },
          "metadata": {
            "tags": []
          },
          "execution_count": 9
        }
      ]
    },
    {
      "cell_type": "markdown",
      "metadata": {
        "id": "7w_B7EsNLgQC",
        "colab_type": "text"
      },
      "source": [
        "### Seperate output column 'Close' to df_close"
      ]
    },
    {
      "cell_type": "code",
      "metadata": {
        "id": "VgIS2BaxLOvu",
        "colab_type": "code",
        "colab": {}
      },
      "source": [
        "y_df = df['Close']"
      ],
      "execution_count": 0,
      "outputs": []
    },
    {
      "cell_type": "code",
      "metadata": {
        "id": "0cvSs0GHvokI",
        "colab_type": "code",
        "colab": {
          "base_uri": "https://localhost:8080/",
          "height": 34
        },
        "outputId": "e7d18af0-b793-4db8-f6f2-d1b55e4c9adb"
      },
      "source": [
        "type(y_df)"
      ],
      "execution_count": 11,
      "outputs": [
        {
          "output_type": "execute_result",
          "data": {
            "text/plain": [
              "pandas.core.series.Series"
            ]
          },
          "metadata": {
            "tags": []
          },
          "execution_count": 11
        }
      ]
    },
    {
      "cell_type": "code",
      "metadata": {
        "id": "2EYsIEYwxESf",
        "colab_type": "code",
        "colab": {}
      },
      "source": [
        "y_arry = y_df.values"
      ],
      "execution_count": 0,
      "outputs": []
    },
    {
      "cell_type": "code",
      "metadata": {
        "id": "kpUUIQvdwslH",
        "colab_type": "code",
        "colab": {
          "base_uri": "https://localhost:8080/",
          "height": 34
        },
        "outputId": "12a5bd73-803a-4edb-bbfc-461c17a753d8"
      },
      "source": [
        "type(y_arry)"
      ],
      "execution_count": 13,
      "outputs": [
        {
          "output_type": "execute_result",
          "data": {
            "text/plain": [
              "numpy.ndarray"
            ]
          },
          "metadata": {
            "tags": []
          },
          "execution_count": 13
        }
      ]
    },
    {
      "cell_type": "markdown",
      "metadata": {
        "id": "sUea_oemLtH1",
        "colab_type": "text"
      },
      "source": [
        "### Drop 'Close' column from original df"
      ]
    },
    {
      "cell_type": "code",
      "metadata": {
        "id": "XTa-DqnnLpI1",
        "colab_type": "code",
        "colab": {}
      },
      "source": [
        "df.drop('Close', axis=1, inplace=True)"
      ],
      "execution_count": 0,
      "outputs": []
    },
    {
      "cell_type": "code",
      "metadata": {
        "id": "in37s8B-MFGf",
        "colab_type": "code",
        "colab": {
          "base_uri": "https://localhost:8080/",
          "height": 204
        },
        "outputId": "9522d224-5f4e-4731-d127-8d38beefc0ee"
      },
      "source": [
        "df.head()"
      ],
      "execution_count": 15,
      "outputs": [
        {
          "output_type": "execute_result",
          "data": {
            "text/html": [
              "<div>\n",
              "<style scoped>\n",
              "    .dataframe tbody tr th:only-of-type {\n",
              "        vertical-align: middle;\n",
              "    }\n",
              "\n",
              "    .dataframe tbody tr th {\n",
              "        vertical-align: top;\n",
              "    }\n",
              "\n",
              "    .dataframe thead th {\n",
              "        text-align: right;\n",
              "    }\n",
              "</style>\n",
              "<table border=\"1\" class=\"dataframe\">\n",
              "  <thead>\n",
              "    <tr style=\"text-align: right;\">\n",
              "      <th></th>\n",
              "      <th>Open</th>\n",
              "      <th>High</th>\n",
              "      <th>Low</th>\n",
              "      <th>Volume</th>\n",
              "    </tr>\n",
              "  </thead>\n",
              "  <tbody>\n",
              "    <tr>\n",
              "      <th>0</th>\n",
              "      <td>37.349998</td>\n",
              "      <td>37.400002</td>\n",
              "      <td>37.099998</td>\n",
              "      <td>30632200</td>\n",
              "    </tr>\n",
              "    <tr>\n",
              "      <th>1</th>\n",
              "      <td>37.200001</td>\n",
              "      <td>37.220001</td>\n",
              "      <td>36.599998</td>\n",
              "      <td>31134800</td>\n",
              "    </tr>\n",
              "    <tr>\n",
              "      <th>2</th>\n",
              "      <td>36.849998</td>\n",
              "      <td>36.889999</td>\n",
              "      <td>36.110001</td>\n",
              "      <td>43603700</td>\n",
              "    </tr>\n",
              "    <tr>\n",
              "      <th>3</th>\n",
              "      <td>36.330002</td>\n",
              "      <td>36.490002</td>\n",
              "      <td>36.209999</td>\n",
              "      <td>35802800</td>\n",
              "    </tr>\n",
              "    <tr>\n",
              "      <th>4</th>\n",
              "      <td>36.000000</td>\n",
              "      <td>36.139999</td>\n",
              "      <td>35.580002</td>\n",
              "      <td>59971700</td>\n",
              "    </tr>\n",
              "  </tbody>\n",
              "</table>\n",
              "</div>"
            ],
            "text/plain": [
              "        Open       High        Low    Volume\n",
              "0  37.349998  37.400002  37.099998  30632200\n",
              "1  37.200001  37.220001  36.599998  31134800\n",
              "2  36.849998  36.889999  36.110001  43603700\n",
              "3  36.330002  36.490002  36.209999  35802800\n",
              "4  36.000000  36.139999  35.580002  59971700"
            ]
          },
          "metadata": {
            "tags": []
          },
          "execution_count": 15
        }
      ]
    },
    {
      "cell_type": "markdown",
      "metadata": {
        "id": "26kFkY19Kfc0",
        "colab_type": "text"
      },
      "source": [
        "### calculate min max scalar"
      ]
    },
    {
      "cell_type": "code",
      "metadata": {
        "id": "BnQkV5ZJHg08",
        "colab_type": "code",
        "colab": {}
      },
      "source": [
        "scaler = MinMaxScaler(feature_range=(0,1))\n",
        "x_arry = scaler.fit_transform(df)"
      ],
      "execution_count": 0,
      "outputs": []
    },
    {
      "cell_type": "code",
      "metadata": {
        "id": "b2gRr3cyMjJz",
        "colab_type": "code",
        "colab": {
          "base_uri": "https://localhost:8080/",
          "height": 34
        },
        "outputId": "099bad96-e661-4183-c9f2-417c5d09fd24"
      },
      "source": [
        "type(x_arry)"
      ],
      "execution_count": 17,
      "outputs": [
        {
          "output_type": "execute_result",
          "data": {
            "text/plain": [
              "numpy.ndarray"
            ]
          },
          "metadata": {
            "tags": []
          },
          "execution_count": 17
        }
      ]
    },
    {
      "cell_type": "markdown",
      "metadata": {
        "id": "7F5iCWcLx3nG",
        "colab_type": "text"
      },
      "source": [
        "### Train Test split = 70 :30"
      ]
    },
    {
      "cell_type": "code",
      "metadata": {
        "id": "vjNCsAg-wzJk",
        "colab_type": "code",
        "colab": {}
      },
      "source": [
        "x_train,x_test,y_train,y_test = train_test_split(x_arry,y_arry, test_size=0.3,random_state=42)"
      ],
      "execution_count": 0,
      "outputs": []
    },
    {
      "cell_type": "code",
      "metadata": {
        "id": "LWmkDsRBx2nv",
        "colab_type": "code",
        "colab": {
          "base_uri": "https://localhost:8080/",
          "height": 34
        },
        "outputId": "ff2a7626-b95f-4e3e-c865-4c223ff2fc26"
      },
      "source": [
        "type(y_train)\n",
        "print(utils.multiclass.type_of_target(y_train))"
      ],
      "execution_count": 19,
      "outputs": [
        {
          "output_type": "stream",
          "text": [
            "continuous\n"
          ],
          "name": "stdout"
        }
      ]
    },
    {
      "cell_type": "code",
      "metadata": {
        "id": "OL5LIwxGyqzO",
        "colab_type": "code",
        "colab": {
          "base_uri": "https://localhost:8080/",
          "height": 34
        },
        "outputId": "31dbf3ce-56e9-4e3c-bd32-e05b98e58ede"
      },
      "source": [
        "x_train.shape"
      ],
      "execution_count": 20,
      "outputs": [
        {
          "output_type": "execute_result",
          "data": {
            "text/plain": [
              "(1001, 4)"
            ]
          },
          "metadata": {
            "tags": []
          },
          "execution_count": 20
        }
      ]
    },
    {
      "cell_type": "code",
      "metadata": {
        "id": "pmjFlSF6zU3R",
        "colab_type": "code",
        "colab": {
          "base_uri": "https://localhost:8080/",
          "height": 34
        },
        "outputId": "1034e125-5736-43f1-9e5b-3bd080620ed9"
      },
      "source": [
        "x_test.shape"
      ],
      "execution_count": 21,
      "outputs": [
        {
          "output_type": "execute_result",
          "data": {
            "text/plain": [
              "(429, 4)"
            ]
          },
          "metadata": {
            "tags": []
          },
          "execution_count": 21
        }
      ]
    },
    {
      "cell_type": "code",
      "metadata": {
        "id": "aJJsZeh1zVzx",
        "colab_type": "code",
        "colab": {
          "base_uri": "https://localhost:8080/",
          "height": 34
        },
        "outputId": "c0ecc6be-6012-4807-9278-f5d5ae166186"
      },
      "source": [
        "y_train.shape"
      ],
      "execution_count": 22,
      "outputs": [
        {
          "output_type": "execute_result",
          "data": {
            "text/plain": [
              "(1001,)"
            ]
          },
          "metadata": {
            "tags": []
          },
          "execution_count": 22
        }
      ]
    },
    {
      "cell_type": "code",
      "metadata": {
        "id": "e-Fr1MQEzWBl",
        "colab_type": "code",
        "colab": {
          "base_uri": "https://localhost:8080/",
          "height": 34
        },
        "outputId": "15fadb27-4ada-4877-ed04-f15807fb8938"
      },
      "source": [
        "y_test.shape"
      ],
      "execution_count": 23,
      "outputs": [
        {
          "output_type": "execute_result",
          "data": {
            "text/plain": [
              "(429,)"
            ]
          },
          "metadata": {
            "tags": []
          },
          "execution_count": 23
        }
      ]
    },
    {
      "cell_type": "markdown",
      "metadata": {
        "id": "VFqzBh4Czj1V",
        "colab_type": "text"
      },
      "source": [
        "# **LINEAR REGRESSION**\n",
        "\n",
        "\n",
        "\n",
        "\n",
        "\n",
        "\n",
        "\n"
      ]
    },
    {
      "cell_type": "code",
      "metadata": {
        "id": "B1KjmsEFzbty",
        "colab_type": "code",
        "colab": {}
      },
      "source": [
        "lin_reg = linear_model.LinearRegression()"
      ],
      "execution_count": 0,
      "outputs": []
    },
    {
      "cell_type": "code",
      "metadata": {
        "id": "4Rwg4Zpw0SrH",
        "colab_type": "code",
        "colab": {
          "base_uri": "https://localhost:8080/",
          "height": 34
        },
        "outputId": "3fde896c-5731-4d0b-f1a2-8d0cbb5df354"
      },
      "source": [
        "lin_reg.fit(x_train,y_train)"
      ],
      "execution_count": 25,
      "outputs": [
        {
          "output_type": "execute_result",
          "data": {
            "text/plain": [
              "LinearRegression(copy_X=True, fit_intercept=True, n_jobs=None, normalize=False)"
            ]
          },
          "metadata": {
            "tags": []
          },
          "execution_count": 25
        }
      ]
    },
    {
      "cell_type": "code",
      "metadata": {
        "id": "_kFwEB_90Vz7",
        "colab_type": "code",
        "colab": {}
      },
      "source": [
        "y_pred = lin_reg.predict(x_test)"
      ],
      "execution_count": 0,
      "outputs": []
    },
    {
      "cell_type": "code",
      "metadata": {
        "id": "jh_iAzt00Yak",
        "colab_type": "code",
        "colab": {}
      },
      "source": [
        "rmse = np.sqrt(mean_squared_error(y_test, y_pred))"
      ],
      "execution_count": 0,
      "outputs": []
    },
    {
      "cell_type": "code",
      "metadata": {
        "id": "4XngXzYt0dJn",
        "colab_type": "code",
        "colab": {
          "base_uri": "https://localhost:8080/",
          "height": 51
        },
        "outputId": "f7ad2422-888f-4083-fa98-431878217aa7"
      },
      "source": [
        "print(\"Root Mean squared error: %.2f\" % rmse)\n",
        "print('R2 score: %.2f' % r2_score(y_test, y_pred))"
      ],
      "execution_count": 28,
      "outputs": [
        {
          "output_type": "stream",
          "text": [
            "Root Mean squared error: 0.42\n",
            "R2 score: 1.00\n"
          ],
          "name": "stdout"
        }
      ]
    },
    {
      "cell_type": "code",
      "metadata": {
        "id": "5i-JjItB0kiN",
        "colab_type": "code",
        "colab": {
          "base_uri": "https://localhost:8080/",
          "height": 1000
        },
        "outputId": "4e66141f-8fb5-4129-f25f-cbae8dd72a90"
      },
      "source": [
        "#Actual and Predicted values for Linear Regression\n",
        "ypred_linear_regression = pd.DataFrame({'Prediction': pd.Series(y_pred)})\n",
        "ytest_linear_regression = pd.DataFrame({'Actual': pd.Series(y_test)})\n",
        "df_total_linear_regression = pd.concat([ytest_linear_regression , ypred_linear_regression], axis=1)\n",
        "print(df_total_linear_regression)"
      ],
      "execution_count": 29,
      "outputs": [
        {
          "output_type": "stream",
          "text": [
            "         Actual  Prediction\n",
            "0     41.700001   41.838151\n",
            "1    114.669998  114.027725\n",
            "2     53.240002   53.118064\n",
            "3     47.610001   47.473300\n",
            "4     87.110001   87.542234\n",
            "5     57.889999   58.139764\n",
            "6     62.580002   62.343987\n",
            "7     50.160000   50.048496\n",
            "8     39.180000   39.202141\n",
            "9     54.349998   54.396483\n",
            "10    49.060001   49.043381\n",
            "11    85.580002   85.813159\n",
            "12   115.610001  115.622101\n",
            "13    89.389999   90.272700\n",
            "14    40.970001   41.155449\n",
            "15   115.910004  116.400351\n",
            "16    48.779999   48.859953\n",
            "17    39.910000   40.167970\n",
            "18    42.009998   41.794950\n",
            "19    39.549999   39.576961\n",
            "20    40.470001   40.423589\n",
            "21    45.910000   45.865554\n",
            "22   107.580002  107.368295\n",
            "23    51.160000   51.608805\n",
            "24    39.689999   39.586498\n",
            "25    48.299999   48.261634\n",
            "26    46.040001   46.382287\n",
            "27    64.269997   64.384536\n",
            "28   106.959999  107.546140\n",
            "29    72.519997   72.596087\n",
            "..          ...         ...\n",
            "399   93.639999   93.962761\n",
            "400   84.879997   84.928207\n",
            "401   45.330002   45.187727\n",
            "402  102.800003  102.224180\n",
            "403  103.070000  103.498275\n",
            "404   50.509998   50.649103\n",
            "405   54.070000   54.058270\n",
            "406   71.209999   70.969877\n",
            "407  111.120003  110.807772\n",
            "408  111.959999  111.827112\n",
            "409   53.070000   52.582109\n",
            "410  105.269997  104.881666\n",
            "411   51.439999   51.406916\n",
            "412   83.180000   83.410398\n",
            "413  111.239998  111.230788\n",
            "414   42.610001   42.517017\n",
            "415   43.360001   42.828599\n",
            "416   40.349998   40.231211\n",
            "417   82.980003   83.092851\n",
            "418   43.889999   43.819013\n",
            "419  112.360001  112.940675\n",
            "420   46.610001   46.660888\n",
            "421   50.939999   50.756080\n",
            "422  135.789993  136.370651\n",
            "423   44.790001   44.711955\n",
            "424   54.560001   54.728644\n",
            "425   49.939999   50.145680\n",
            "426   89.129997   89.012347\n",
            "427   52.840000   52.695975\n",
            "428   45.540001   46.481381\n",
            "\n",
            "[429 rows x 2 columns]\n"
          ],
          "name": "stdout"
        }
      ]
    },
    {
      "cell_type": "code",
      "metadata": {
        "id": "hZP01-ZbG4Vj",
        "colab_type": "code",
        "colab": {}
      },
      "source": [
        ""
      ],
      "execution_count": 0,
      "outputs": []
    },
    {
      "cell_type": "code",
      "metadata": {
        "id": "gR9BbrhO1Sim",
        "colab_type": "code",
        "colab": {
          "base_uri": "https://localhost:8080/",
          "height": 51
        },
        "outputId": "5fd6f4bf-b8e1-4dce-d7be-f6ec56ae318d"
      },
      "source": [
        "# Display model parameters\n",
        "print('Slope = ', lin_reg.coef_)\n",
        "print('Intercept = ', lin_reg.intercept_)"
      ],
      "execution_count": 30,
      "outputs": [
        {
          "output_type": "stream",
          "text": [
            "Slope =  [-69.12724631  87.88359409  86.43582157  -0.16008085]\n",
            "Intercept =  35.633109489933815\n"
          ],
          "name": "stdout"
        }
      ]
    },
    {
      "cell_type": "code",
      "metadata": {
        "id": "wsllO-XYBm1a",
        "colab_type": "code",
        "colab": {}
      },
      "source": [
        "# Regression chart.\n",
        "def chart_regression(pred,y,sort=True):\n",
        "    t = pd.DataFrame({'pred' : pred.flatten(), 'y' : y.flatten()})\n",
        "    if sort:\n",
        "        t.sort_values(by=['y'],inplace=True)\n",
        "    a = plt.plot(t['y'].tolist(),label='expected')\n",
        "    b = plt.plot(t['pred'].tolist(),label='prediction')\n",
        "    plt.ylabel('output')\n",
        "    plt.legend()\n",
        "    plt.show()"
      ],
      "execution_count": 0,
      "outputs": []
    },
    {
      "cell_type": "code",
      "metadata": {
        "id": "veOF2-aV5lsT",
        "colab_type": "code",
        "colab": {
          "base_uri": "https://localhost:8080/",
          "height": 274
        },
        "outputId": "f145f9e2-6ded-40ba-dbbf-c617ff29bd15"
      },
      "source": [
        "chart_regression(y_pred,y_test,sort=True)"
      ],
      "execution_count": 32,
      "outputs": [
        {
          "output_type": "display_data",
          "data": {
            "image/png": "[encoded data removed]",
            "text/plain": [
              "<Figure size 432x288 with 1 Axes>"
            ]
          },
          "metadata": {
            "tags": []
          }
        }
      ]
    },
    {
      "cell_type": "markdown",
      "metadata": {
        "id": "nW4fT5pMG5ht",
        "colab_type": "text"
      },
      "source": [
        "# RIDGE REGRESSION"
      ]
    },
    {
      "cell_type": "code",
      "metadata": {
        "id": "Gc58JAY4B7Qk",
        "colab_type": "code",
        "colab": {}
      },
      "source": [
        "ridge_reg = linear_model.Ridge(alpha=.5)"
      ],
      "execution_count": 0,
      "outputs": []
    },
    {
      "cell_type": "code",
      "metadata": {
        "id": "SZUvyTupHWTP",
        "colab_type": "code",
        "colab": {
          "base_uri": "https://localhost:8080/",
          "height": 51
        },
        "outputId": "a2b76765-8066-4e4f-f2c2-5f840d36a719"
      },
      "source": [
        "ridge_reg.fit(x_train,y_train)"
      ],
      "execution_count": 34,
      "outputs": [
        {
          "output_type": "execute_result",
          "data": {
            "text/plain": [
              "Ridge(alpha=0.5, copy_X=True, fit_intercept=True, max_iter=None,\n",
              "      normalize=False, random_state=None, solver='auto', tol=0.001)"
            ]
          },
          "metadata": {
            "tags": []
          },
          "execution_count": 34
        }
      ]
    },
    {
      "cell_type": "code",
      "metadata": {
        "id": "iKufqofyHjfE",
        "colab_type": "code",
        "colab": {}
      },
      "source": [
        "y_pred = ridge_reg.predict(x_test)"
      ],
      "execution_count": 0,
      "outputs": []
    },
    {
      "cell_type": "code",
      "metadata": {
        "id": "vAPzPIaMHoRx",
        "colab_type": "code",
        "colab": {}
      },
      "source": [
        "rmse = np.sqrt(mean_squared_error(y_test, y_pred))"
      ],
      "execution_count": 0,
      "outputs": []
    },
    {
      "cell_type": "code",
      "metadata": {
        "id": "GXNm4v1CHrrT",
        "colab_type": "code",
        "colab": {
          "base_uri": "https://localhost:8080/",
          "height": 51
        },
        "outputId": "578ca447-3306-4251-f85f-172a7afb5880"
      },
      "source": [
        "print(\"Root Mean squared error: %.2f\" % rmse)\n",
        "print('R2 score: %.2f' % r2_score(y_test, y_pred))"
      ],
      "execution_count": 37,
      "outputs": [
        {
          "output_type": "stream",
          "text": [
            "Root Mean squared error: 0.61\n",
            "R2 score: 1.00\n"
          ],
          "name": "stdout"
        }
      ]
    },
    {
      "cell_type": "code",
      "metadata": {
        "id": "10PgYEWcHvWw",
        "colab_type": "code",
        "colab": {
          "base_uri": "https://localhost:8080/",
          "height": 1000
        },
        "outputId": "c57af65f-4c5d-4ce3-a714-9c1ea1d48dfe"
      },
      "source": [
        "#Actual and Predicted values for Linear Regression\n",
        "ypred_ridge_reg = pd.DataFrame({'Prediction': pd.Series(y_pred)})\n",
        "ytest_ridge_reg = pd.DataFrame({'Actual': pd.Series(y_test)})\n",
        "df_total_ridge_reg = pd.concat([ytest_ridge_reg , ypred_ridge_reg], axis=1)\n",
        "print(df_total_ridge_reg)"
      ],
      "execution_count": 38,
      "outputs": [
        {
          "output_type": "stream",
          "text": [
            "         Actual  Prediction\n",
            "0     41.700001   42.129890\n",
            "1    114.669998  113.291902\n",
            "2     53.240002   53.024924\n",
            "3     47.610001   47.188780\n",
            "4     87.110001   86.963583\n",
            "5     57.889999   58.095891\n",
            "6     62.580002   62.667237\n",
            "7     50.160000   51.060437\n",
            "8     39.180000   39.255125\n",
            "9     54.349998   53.900034\n",
            "10    49.060001   48.859776\n",
            "11    85.580002   85.491008\n",
            "12   115.610001  115.001049\n",
            "13    89.389999   89.833555\n",
            "14    40.970001   41.223191\n",
            "15   115.910004  115.506171\n",
            "16    48.779999   48.798117\n",
            "17    39.910000   40.233482\n",
            "18    42.009998   41.257201\n",
            "19    39.549999   38.783234\n",
            "20    40.470001   40.259756\n",
            "21    45.910000   46.123232\n",
            "22   107.580002  107.274325\n",
            "23    51.160000   51.437942\n",
            "24    39.689999   39.953256\n",
            "25    48.299999   48.694963\n",
            "26    46.040001   46.738944\n",
            "27    64.269997   64.214382\n",
            "28   106.959999  106.213823\n",
            "29    72.519997   72.413944\n",
            "..          ...         ...\n",
            "399   93.639999   92.960678\n",
            "400   84.879997   84.413338\n",
            "401   45.330002   45.163004\n",
            "402  102.800003  102.660607\n",
            "403  103.070000  102.674033\n",
            "404   50.509998   51.338737\n",
            "405   54.070000   53.887767\n",
            "406   71.209999   70.467375\n",
            "407  111.120003  108.894820\n",
            "408  111.959999  110.256808\n",
            "409   53.070000   52.876604\n",
            "410  105.269997  104.928978\n",
            "411   51.439999   51.945785\n",
            "412   83.180000   83.915245\n",
            "413  111.239998  109.752713\n",
            "414   42.610001   42.755017\n",
            "415   43.360001   42.621192\n",
            "416   40.349998   40.125163\n",
            "417   82.980003   83.304398\n",
            "418   43.889999   43.606121\n",
            "419  112.360001  111.845769\n",
            "420   46.610001   46.808072\n",
            "421   50.939999   51.184592\n",
            "422  135.789993  136.556418\n",
            "423   44.790001   44.682120\n",
            "424   54.560001   55.093308\n",
            "425   49.939999   50.080673\n",
            "426   89.129997   88.755102\n",
            "427   52.840000   52.302275\n",
            "428   45.540001   45.840764\n",
            "\n",
            "[429 rows x 2 columns]\n"
          ],
          "name": "stdout"
        }
      ]
    },
    {
      "cell_type": "code",
      "metadata": {
        "id": "ZWhVDY2UHzif",
        "colab_type": "code",
        "colab": {
          "base_uri": "https://localhost:8080/",
          "height": 51
        },
        "outputId": "386c89fd-b24c-4bed-f631-fb4b0ca456b0"
      },
      "source": [
        "# Display model parameters\n",
        "print('Slope = ', ridge_reg.coef_)\n",
        "print('Intercept = ', ridge_reg.intercept_)"
      ],
      "execution_count": 39,
      "outputs": [
        {
          "output_type": "stream",
          "text": [
            "Slope =  [32.05300784 36.32550546 37.33560878 -0.88058025]\n",
            "Intercept =  35.33048661576947\n"
          ],
          "name": "stdout"
        }
      ]
    },
    {
      "cell_type": "code",
      "metadata": {
        "id": "Ruuz9GmmH4z0",
        "colab_type": "code",
        "colab": {
          "base_uri": "https://localhost:8080/",
          "height": 274
        },
        "outputId": "455639a1-17a3-46e0-9738-8b0dfe253729"
      },
      "source": [
        "chart_regression(y_pred,y_test,sort=True)"
      ],
      "execution_count": 40,
      "outputs": [
        {
          "output_type": "display_data",
          "data": {
            "image/png": "[encoded data removed]",
            "text/plain": [
              "<Figure size 432x288 with 1 Axes>"
            ]
          },
          "metadata": {
            "tags": []
          }
        }
      ]
    },
    {
      "cell_type": "markdown",
      "metadata": {
        "id": "XMYzyoKJIplo",
        "colab_type": "text"
      },
      "source": [
        "# LASSO REGRESSION"
      ]
    },
    {
      "cell_type": "code",
      "metadata": {
        "id": "c8oeNLwaIXPJ",
        "colab_type": "code",
        "colab": {}
      },
      "source": [
        "lasso_reg = linear_model.Lasso(alpha=0.1)"
      ],
      "execution_count": 0,
      "outputs": []
    },
    {
      "cell_type": "code",
      "metadata": {
        "id": "T0BGvzjeI7Mk",
        "colab_type": "code",
        "colab": {
          "base_uri": "https://localhost:8080/",
          "height": 122
        },
        "outputId": "2ec45b36-1ad4-49c4-fc60-c64a551a20c2"
      },
      "source": [
        "lasso_reg.fit(x_train,y_train)  "
      ],
      "execution_count": 42,
      "outputs": [
        {
          "output_type": "stream",
          "text": [
            "/usr/local/lib/python3.6/dist-packages/sklearn/linear_model/coordinate_descent.py:475: ConvergenceWarning: Objective did not converge. You might want to increase the number of iterations. Duality gap: 212.63005585437145, tolerance: 81.08762204676704\n",
            "  positive)\n"
          ],
          "name": "stderr"
        },
        {
          "output_type": "execute_result",
          "data": {
            "text/plain": [
              "Lasso(alpha=0.1, copy_X=True, fit_intercept=True, max_iter=1000,\n",
              "      normalize=False, positive=False, precompute=False, random_state=None,\n",
              "      selection='cyclic', tol=0.0001, warm_start=False)"
            ]
          },
          "metadata": {
            "tags": []
          },
          "execution_count": 42
        }
      ]
    },
    {
      "cell_type": "code",
      "metadata": {
        "id": "DpCs3mBKJAck",
        "colab_type": "code",
        "colab": {}
      },
      "source": [
        "y_pred = lasso_reg.predict(x_test)"
      ],
      "execution_count": 0,
      "outputs": []
    },
    {
      "cell_type": "code",
      "metadata": {
        "id": "v5g8fBVNJRld",
        "colab_type": "code",
        "colab": {}
      },
      "source": [
        "rmse = np.sqrt(mean_squared_error(y_test, y_pred))"
      ],
      "execution_count": 0,
      "outputs": []
    },
    {
      "cell_type": "code",
      "metadata": {
        "id": "ycZtKqUQJWlN",
        "colab_type": "code",
        "colab": {
          "base_uri": "https://localhost:8080/",
          "height": 51
        },
        "outputId": "8a9ca006-3e43-42dc-f531-d396200295d9"
      },
      "source": [
        "print(\"Root Mean squared error: %.2f\" % rmse)\n",
        "print('R2 score: %.2f' % r2_score(y_test, y_pred))"
      ],
      "execution_count": 45,
      "outputs": [
        {
          "output_type": "stream",
          "text": [
            "Root Mean squared error: 0.78\n",
            "R2 score: 1.00\n"
          ],
          "name": "stdout"
        }
      ]
    },
    {
      "cell_type": "code",
      "metadata": {
        "id": "NSOXMTVBJZSR",
        "colab_type": "code",
        "colab": {
          "base_uri": "https://localhost:8080/",
          "height": 1000
        },
        "outputId": "819720ad-1dfe-4905-9f73-2d4fcd7c31c7"
      },
      "source": [
        "#Actual and Predicted values for Linear Regression\n",
        "ypred_lasso_reg = pd.DataFrame({'Prediction': pd.Series(y_pred)})\n",
        "ytest_lasso_reg = pd.DataFrame({'Actual': pd.Series(y_test)})\n",
        "df_total_lasso_reg = pd.concat([ytest_lasso_reg , ypred_lasso_reg], axis=1)\n",
        "print(df_total_lasso_reg)"
      ],
      "execution_count": 46,
      "outputs": [
        {
          "output_type": "stream",
          "text": [
            "         Actual  Prediction\n",
            "0     41.700001   42.406353\n",
            "1    114.669998  112.930401\n",
            "2     53.240002   53.154250\n",
            "3     47.610001   47.453565\n",
            "4     87.110001   86.603369\n",
            "5     57.889999   58.012811\n",
            "6     62.580002   62.658468\n",
            "7     50.160000   51.881446\n",
            "8     39.180000   39.549255\n",
            "9     54.349998   54.079471\n",
            "10    49.060001   49.137343\n",
            "11    85.580002   85.164341\n",
            "12   115.610001  114.201705\n",
            "13    89.389999   89.883080\n",
            "14    40.970001   41.523614\n",
            "15   115.910004  115.224537\n",
            "16    48.779999   48.876745\n",
            "17    39.910000   40.730837\n",
            "18    42.009998   41.791617\n",
            "19    39.549999   39.402327\n",
            "20    40.470001   40.527732\n",
            "21    45.910000   46.350000\n",
            "22   107.580002  106.697915\n",
            "23    51.160000   51.516600\n",
            "24    39.689999   40.240655\n",
            "25    48.299999   48.964856\n",
            "26    46.040001   47.093235\n",
            "27    64.269997   64.125666\n",
            "28   106.959999  106.310491\n",
            "29    72.519997   72.183325\n",
            "..          ...         ...\n",
            "399   93.639999   92.682899\n",
            "400   84.879997   84.084819\n",
            "401   45.330002   45.347340\n",
            "402  102.800003  102.392233\n",
            "403  103.070000  102.188800\n",
            "404   50.509998   51.711955\n",
            "405   54.070000   53.972247\n",
            "406   71.209999   70.425915\n",
            "407  111.120003  108.727354\n",
            "408  111.959999  109.926628\n",
            "409   53.070000   53.052084\n",
            "410  105.269997  104.478881\n",
            "411   51.439999   52.296306\n",
            "412   83.180000   83.785539\n",
            "413  111.239998  109.342643\n",
            "414   42.610001   43.121215\n",
            "415   43.360001   43.086921\n",
            "416   40.349998   40.363966\n",
            "417   82.980003   83.055220\n",
            "418   43.889999   43.875821\n",
            "419  112.360001  111.297534\n",
            "420   46.610001   47.066484\n",
            "421   50.939999   51.511499\n",
            "422  135.789993  135.934276\n",
            "423   44.790001   44.936088\n",
            "424   54.560001   55.216329\n",
            "425   49.939999   50.192180\n",
            "426   89.129997   88.645047\n",
            "427   52.840000   52.452192\n",
            "428   45.540001   46.367332\n",
            "\n",
            "[429 rows x 2 columns]\n"
          ],
          "name": "stdout"
        }
      ]
    },
    {
      "cell_type": "code",
      "metadata": {
        "id": "61lBDY2NJb8c",
        "colab_type": "code",
        "colab": {
          "base_uri": "https://localhost:8080/",
          "height": 51
        },
        "outputId": "2d96c6d6-58d2-401e-a264-658146ba252b"
      },
      "source": [
        "# Display model parameters\n",
        "print('Slope = ', lasso_reg.coef_)\n",
        "print('Intercept = ', lasso_reg.intercept_)"
      ],
      "execution_count": 47,
      "outputs": [
        {
          "output_type": "stream",
          "text": [
            "Slope =  [43.49711077 53.39482252  7.44929526 -0.        ]\n",
            "Intercept =  35.68235635868683\n"
          ],
          "name": "stdout"
        }
      ]
    },
    {
      "cell_type": "code",
      "metadata": {
        "id": "k17_Q8uEJfTr",
        "colab_type": "code",
        "colab": {
          "base_uri": "https://localhost:8080/",
          "height": 274
        },
        "outputId": "6fea795b-028b-461d-e0ef-6feea415c450"
      },
      "source": [
        "chart_regression(y_pred,y_test,sort=True)"
      ],
      "execution_count": 48,
      "outputs": [
        {
          "output_type": "display_data",
          "data": {
            "image/png": "[encoded data removed]",
            "text/plain": [
              "<Figure size 432x288 with 1 Axes>"
            ]
          },
          "metadata": {
            "tags": []
          }
        }
      ]
    }
  ]
}